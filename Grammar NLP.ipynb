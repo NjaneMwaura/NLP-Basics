{
 "cells": [
  {
   "cell_type": "code",
   "execution_count": 1,
   "id": "d2032a5d",
   "metadata": {},
   "outputs": [
    {
     "name": "stdout",
     "output_type": "stream",
     "text": [
      "Requirement already satisfied: nltk in c:\\users\\admin\\anaconda32\\lib\\site-packages (3.7)\n",
      "Requirement already satisfied: tqdm in c:\\users\\admin\\anaconda32\\lib\\site-packages (from nltk) (4.64.1)\n",
      "Requirement already satisfied: click in c:\\users\\admin\\anaconda32\\lib\\site-packages (from nltk) (8.0.4)\n",
      "Requirement already satisfied: regex>=2021.8.3 in c:\\users\\admin\\anaconda32\\lib\\site-packages (from nltk) (2022.7.9)\n",
      "Requirement already satisfied: joblib in c:\\users\\admin\\anaconda32\\lib\\site-packages (from nltk) (1.3.1)\n",
      "Requirement already satisfied: colorama in c:\\users\\admin\\anaconda32\\lib\\site-packages (from click->nltk) (0.4.6)\n"
     ]
    }
   ],
   "source": [
    "!pip install nltk"
   ]
  },
  {
   "cell_type": "code",
   "execution_count": 2,
   "id": "42d6f007",
   "metadata": {},
   "outputs": [],
   "source": [
    "import nltk\n",
    "\n",
    "grammar = nltk.CFG.fromstring(\"\"\"\n",
    "S -> NP VP\n",
    "PP -> P NP\n",
    "NP -> Det N | Det N PP | 'I'\n",
    "VP -> V NP | VP PP\n",
    "Det -> 'an' | 'my'\n",
    "N -> 'elephant' | 'pajamas'\n",
    "V -> 'shot'\n",
    "P -> 'in'\n",
    "\"\"\")"
   ]
  },
  {
   "cell_type": "code",
   "execution_count": 3,
   "id": "70d5dc6e",
   "metadata": {},
   "outputs": [
    {
     "name": "stdout",
     "output_type": "stream",
     "text": [
      "Parse tree number 1\n",
      "(S\n",
      "  (NP I)\n",
      "  (VP\n",
      "    (VP (V shot) (NP (Det an) (N elephant)))\n",
      "    (PP (P in) (NP (Det my) (N pajamas)))))\n",
      "\n",
      "Parse tree number 2\n",
      "(S\n",
      "  (NP I)\n",
      "  (VP\n",
      "    (V shot)\n",
      "    (NP (Det an) (N elephant) (PP (P in) (NP (Det my) (N pajamas))))))\n",
      "\n"
     ]
    }
   ],
   "source": [
    "text = ['I', 'shot', 'an', 'elephant', 'in', 'my', 'pajamas']\n",
    "parser = nltk.ChartParser(grammar)\n",
    "for i, tree in enumerate(parser.parse(text)):\n",
    "  print(f\"Parse tree number {i + 1}\")\n",
    "  print(tree)\n",
    "  print()"
   ]
  },
  {
   "cell_type": "code",
   "execution_count": 4,
   "id": "1a060ef1",
   "metadata": {},
   "outputs": [
    {
     "name": "stderr",
     "output_type": "stream",
     "text": [
      "[nltk_data] Error loading punkt: <urlopen error [Errno 11002]\n",
      "[nltk_data]     getaddrinfo failed>\n"
     ]
    }
   ],
   "source": [
    "nltk.download('punkt')\n",
    "from nltk.tokenize import word_tokenize, sent_tokenize"
   ]
  },
  {
   "cell_type": "code",
   "execution_count": 5,
   "id": "b16d45fa",
   "metadata": {},
   "outputs": [
    {
     "name": "stdout",
     "output_type": "stream",
     "text": [
      "['Ugali', 'skuma', 'matumbo', '....', 'avocado', '///', 'nn', 'na', 'mayai']\n"
     ]
    }
   ],
   "source": [
    "text= \" Ugali skuma matumbo.... avocado /// nn na mayai\"\n",
    "tokens=word_tokenize(text)\n",
    "print(tokens)"
   ]
  },
  {
   "cell_type": "code",
   "execution_count": 6,
   "id": "247dd676",
   "metadata": {},
   "outputs": [
    {
     "name": "stdout",
     "output_type": "stream",
     "text": [
      "[' Ugali na skuma.', 'Uganda kuna matoke.', 'Uliskia wapi wewe..']\n"
     ]
    }
   ],
   "source": [
    "text1= \" Ugali na skuma. Uganda kuna matoke. Uliskia wapi wewe..\"\n",
    "sentences= sent_tokenize(text1)\n",
    "print(sentences)"
   ]
  },
  {
   "cell_type": "code",
   "execution_count": 8,
   "id": "ef7c5da7",
   "metadata": {},
   "outputs": [
    {
     "name": "stderr",
     "output_type": "stream",
     "text": [
      "[nltk_data] Downloading package wordnet to\n",
      "[nltk_data]     C:\\Users\\Admin\\AppData\\Roaming\\nltk_data...\n",
      "[nltk_data] Downloading package omw-1.4 to\n",
      "[nltk_data]     C:\\Users\\Admin\\AppData\\Roaming\\nltk_data...\n"
     ]
    }
   ],
   "source": [
    "nltk.download('wordnet')\n",
    "nltk.download('omw-1.4')\n",
    "\n",
    "from nltk.corpus import wordnet as wn # wordnet API\n",
    "from nltk import wsd # word sense disambiguation with NLTK\n",
    "from nltk.tokenize import word_tokenize # tokenization"
   ]
  },
  {
   "cell_type": "code",
   "execution_count": 10,
   "id": "3ef31060",
   "metadata": {},
   "outputs": [
    {
     "name": "stdout",
     "output_type": "stream",
     "text": [
      "-flesh of any of several primarily freshwater game and food fishes\n",
      "-any of various game and food fishes of cool fresh waters mostly smaller than typical salmons\n"
     ]
    }
   ],
   "source": [
    "synsets_trout= wn.synsets(\"trout\")\n",
    "for synset in synsets_trout:\n",
    "    print(\"-\" + synset.definition())"
   ]
  },
  {
   "cell_type": "code",
   "execution_count": 11,
   "id": "edbdf998",
   "metadata": {},
   "outputs": [
    {
     "name": "stdout",
     "output_type": "stream",
     "text": [
      "['the', 'little', 'bear', 'saw', 'the', 'trout']\n"
     ]
    }
   ],
   "source": [
    "sentence=\" the little bear saw the trout\"\n",
    "sentence_tokenized=word_tokenize(sentence)\n",
    "print(sentence_tokenized)"
   ]
  },
  {
   "cell_type": "code",
   "execution_count": 12,
   "id": "e6361dec",
   "metadata": {},
   "outputs": [
    {
     "name": "stdout",
     "output_type": "stream",
     "text": [
      "-any of various game and food fishes of cool fresh waters mostly smaller than typical salmons\n"
     ]
    }
   ],
   "source": [
    "synset_inferred= wsd.lesk(sentence_tokenized, \"trout\")\n",
    "print((\"-\") + synset_inferred.definition())"
   ]
  },
  {
   "cell_type": "code",
   "execution_count": 14,
   "id": "dd564b5e",
   "metadata": {},
   "outputs": [
    {
     "name": "stdout",
     "output_type": "stream",
     "text": [
      "-massive plantigrade carnivorous or omnivorous mammals with long shaggy coats and strong claws\n",
      "-an investor with a pessimistic market outlook; an investor who expects prices to fall and so sells now in order to buy later at a lower price\n",
      "-have\n",
      "-cause to be born\n",
      "-put up with something or somebody unpleasant\n",
      "-move while holding up or supporting\n",
      "-bring forth,\n",
      "-take on as one's own the expenses or debts of another person\n",
      "-contain or hold; have within\n",
      "-bring in\n",
      "-have on one's person\n",
      "-behave in a certain manner\n",
      "-have rightfully; of rights, titles, and offices\n",
      "-support or hold in a certain manner\n",
      "-be pregnant with\n"
     ]
    }
   ],
   "source": [
    "synsets_bear=wn.synsets(\"bear\")\n",
    "for synset in synsets_bear:\n",
    "    print(\"-\"+synset.definition())"
   ]
  },
  {
   "cell_type": "code",
   "execution_count": 16,
   "id": "63de6914",
   "metadata": {},
   "outputs": [
    {
     "name": "stdout",
     "output_type": "stream",
     "text": [
      "-take on as one's own the expenses or debts of another person\n"
     ]
    }
   ],
   "source": [
    "synset_inferred=wsd.lesk(sentence_tokenized, \"bear\")\n",
    "print(\"-\" + synset_inferred.definition())"
   ]
  },
  {
   "cell_type": "code",
   "execution_count": 18,
   "id": "37901b35",
   "metadata": {},
   "outputs": [
    {
     "name": "stdout",
     "output_type": "stream",
     "text": [
      "- fruit with red or yellow or green skin and sweet to tart crisp whitish flesh\n",
      "- native Eurasian tree widely cultivated in many varieties for its firm rounded edible fruits\n"
     ]
    }
   ],
   "source": [
    "synset_apple= wn.synsets('Apple')\n",
    "for synset in synset_apple:\n",
    "    print((\"- \") + synset.definition())"
   ]
  },
  {
   "cell_type": "code",
   "execution_count": 19,
   "id": "6ca87e8a",
   "metadata": {},
   "outputs": [
    {
     "name": "stdout",
     "output_type": "stream",
     "text": [
      "['Einsten', 'is', 'the', 'one', 'who', 'saw', 'the', 'apple', 'fall', 'and', 'came', 'up', 'with', 'the', 'law', 'of', 'gravity']\n"
     ]
    }
   ],
   "source": [
    "text=\" Einsten is the one who saw the apple fall and came up with the law of gravity\"\n",
    "text_tokenized= word_tokenize(text)\n",
    "print(text_tokenized)"
   ]
  },
  {
   "cell_type": "code",
   "execution_count": 21,
   "id": "a82b2898",
   "metadata": {},
   "outputs": [
    {
     "name": "stdout",
     "output_type": "stream",
     "text": [
      "-fruit with red or yellow or green skin and sweet to tart crisp whitish flesh\n"
     ]
    }
   ],
   "source": [
    "synset_inferred= wsd.lesk(text_tokenized,\"apple\")\n",
    "print('-'+synset_inferred.definition())"
   ]
  },
  {
   "cell_type": "code",
   "execution_count": 23,
   "id": "60e1afa8",
   "metadata": {},
   "outputs": [
    {
     "name": "stdout",
     "output_type": "stream",
     "text": [
      "-a condensed but memorable saying embodying some important fact of experience that is taken as true by many people\n",
      "-hand tool having a toothed blade for cutting\n",
      "-a power tool for cutting wood\n",
      "-cut with a saw\n",
      "-perceive by sight or have the power to perceive by sight\n",
      "-perceive (an idea or situation) mentally\n",
      "-perceive or be contemporaneous with\n",
      "-imagine; conceive of; see in one's mind\n",
      "-deem to be\n",
      "-get to know or become aware of, usually accidentally\n",
      "-see or watch\n",
      "-come together\n",
      "-find out, learn, or determine with certainty, usually by making an inquiry or other effort\n",
      "-be careful or certain to do something; make certain of something\n",
      "-go to see for professional or business reasons\n",
      "-go to see for a social visit\n",
      "-go to see a place, as for entertainment\n",
      "-take charge of or deal with\n",
      "-receive as a specified guest\n",
      "-date regularly; have a steady relationship with\n",
      "-see and understand, have a good eye\n",
      "-deliberate or decide\n",
      "-observe as if with an eye\n",
      "-observe, check out, and look over carefully or inspect\n",
      "-go or live through\n",
      "-accompany or escort\n",
      "-match or meet\n",
      "-make sense of; assign a meaning to\n"
     ]
    }
   ],
   "source": [
    "synset_saw=wn.synsets('saw')\n",
    "for synset in synset_saw:\n",
    "    print('-'+ synset.definition())"
   ]
  },
  {
   "cell_type": "code",
   "execution_count": null,
   "id": "823bd247",
   "metadata": {},
   "outputs": [],
   "source": [
    "synset_inferred=wsd.lesk(text_tokenized, \"saw\")\n",
    "print()"
   ]
  }
 ],
 "metadata": {
  "kernelspec": {
   "display_name": "Python 3 (ipykernel)",
   "language": "python",
   "name": "python3"
  },
  "language_info": {
   "codemirror_mode": {
    "name": "ipython",
    "version": 3
   },
   "file_extension": ".py",
   "mimetype": "text/x-python",
   "name": "python",
   "nbconvert_exporter": "python",
   "pygments_lexer": "ipython3",
   "version": "3.9.13"
  }
 },
 "nbformat": 4,
 "nbformat_minor": 5
}
