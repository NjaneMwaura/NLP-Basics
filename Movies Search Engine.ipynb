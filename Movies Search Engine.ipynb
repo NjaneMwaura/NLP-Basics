{
 "cells": [
  {
   "cell_type": "code",
   "execution_count": 1,
   "id": "b5d4f221",
   "metadata": {},
   "outputs": [],
   "source": [
    "import nltk\n",
    "from nltk import word_tokenize\n",
    "\n",
    "from collections import Counter"
   ]
  },
  {
   "cell_type": "code",
   "execution_count": 2,
   "id": "cdad56c6",
   "metadata": {},
   "outputs": [
    {
     "data": {
      "text/html": [
       "<div>\n",
       "<style scoped>\n",
       "    .dataframe tbody tr th:only-of-type {\n",
       "        vertical-align: middle;\n",
       "    }\n",
       "\n",
       "    .dataframe tbody tr th {\n",
       "        vertical-align: top;\n",
       "    }\n",
       "\n",
       "    .dataframe thead th {\n",
       "        text-align: right;\n",
       "    }\n",
       "</style>\n",
       "<table border=\"1\" class=\"dataframe\">\n",
       "  <thead>\n",
       "    <tr style=\"text-align: right;\">\n",
       "      <th></th>\n",
       "      <th>rank</th>\n",
       "      <th>title</th>\n",
       "      <th>genre</th>\n",
       "      <th>wiki_plot</th>\n",
       "      <th>imdb_plot</th>\n",
       "    </tr>\n",
       "  </thead>\n",
       "  <tbody>\n",
       "    <tr>\n",
       "      <th>0</th>\n",
       "      <td>0</td>\n",
       "      <td>The Godfather</td>\n",
       "      <td>[u' Crime', u' Drama']</td>\n",
       "      <td>On the day of his only daughter's wedding, Vit...</td>\n",
       "      <td>In late summer 1945, guests are gathered for t...</td>\n",
       "    </tr>\n",
       "    <tr>\n",
       "      <th>1</th>\n",
       "      <td>1</td>\n",
       "      <td>The Shawshank Redemption</td>\n",
       "      <td>[u' Crime', u' Drama']</td>\n",
       "      <td>In 1947, banker Andy Dufresne is convicted of ...</td>\n",
       "      <td>In 1947, Andy Dufresne (Tim Robbins), a banker...</td>\n",
       "    </tr>\n",
       "    <tr>\n",
       "      <th>2</th>\n",
       "      <td>2</td>\n",
       "      <td>Schindler's List</td>\n",
       "      <td>[u' Biography', u' Drama', u' History']</td>\n",
       "      <td>In 1939, the Germans move Polish Jews into the...</td>\n",
       "      <td>The relocation of Polish Jews from surrounding...</td>\n",
       "    </tr>\n",
       "    <tr>\n",
       "      <th>3</th>\n",
       "      <td>3</td>\n",
       "      <td>Raging Bull</td>\n",
       "      <td>[u' Biography', u' Drama', u' Sport']</td>\n",
       "      <td>In a brief scene in 1964, an aging, overweight...</td>\n",
       "      <td>The film opens in 1964, where an older and fat...</td>\n",
       "    </tr>\n",
       "    <tr>\n",
       "      <th>4</th>\n",
       "      <td>4</td>\n",
       "      <td>Casablanca</td>\n",
       "      <td>[u' Drama', u' Romance', u' War']</td>\n",
       "      <td>It is early December 1941. American expatriate...</td>\n",
       "      <td>In the early years of World War II, December 1...</td>\n",
       "    </tr>\n",
       "  </tbody>\n",
       "</table>\n",
       "</div>"
      ],
      "text/plain": [
       "   rank                     title                                    genre  \\\n",
       "0     0             The Godfather                   [u' Crime', u' Drama']   \n",
       "1     1  The Shawshank Redemption                   [u' Crime', u' Drama']   \n",
       "2     2          Schindler's List  [u' Biography', u' Drama', u' History']   \n",
       "3     3               Raging Bull    [u' Biography', u' Drama', u' Sport']   \n",
       "4     4                Casablanca        [u' Drama', u' Romance', u' War']   \n",
       "\n",
       "                                           wiki_plot  \\\n",
       "0  On the day of his only daughter's wedding, Vit...   \n",
       "1  In 1947, banker Andy Dufresne is convicted of ...   \n",
       "2  In 1939, the Germans move Polish Jews into the...   \n",
       "3  In a brief scene in 1964, an aging, overweight...   \n",
       "4  It is early December 1941. American expatriate...   \n",
       "\n",
       "                                           imdb_plot  \n",
       "0  In late summer 1945, guests are gathered for t...  \n",
       "1  In 1947, Andy Dufresne (Tim Robbins), a banker...  \n",
       "2  The relocation of Polish Jews from surrounding...  \n",
       "3  The film opens in 1964, where an older and fat...  \n",
       "4  In the early years of World War II, December 1...  "
      ]
     },
     "execution_count": 2,
     "metadata": {},
     "output_type": "execute_result"
    }
   ],
   "source": [
    "import pandas as pd\n",
    "data = pd.read_csv(\"D:/datasets/movies.csv\")\n",
    "data.head()"
   ]
  },
  {
   "cell_type": "code",
   "execution_count": 5,
   "id": "89e4e5c3",
   "metadata": {},
   "outputs": [
    {
     "name": "stdout",
     "output_type": "stream",
     "text": [
      "{'in': 59, ',': 180, 'for': 34, 'the': 176, 'of': 40, 'don': 40, 'vito': 13, 'corleone': 23, \"'s\": 63, 'connie': 19, '(': 44, ')': 44, 'and': 96, 'carlo': 24, '.': 107, 'family': 26, 'is': 59, 'to': 98, 'as': 25, '``': 19, \"''\": 15, 'he': 58, 'hagen': 13, 'a': 69, 'on': 13, 'his': 59, 'who': 17, 'by': 26, 'with': 33, 'business': 10, 'from': 16, 'michael': 53, 'at': 12, 'about': 12, 'father': 10, 'that': 40, 'sonny': 28, 'but': 11, 'not': 10, 'when': 10, 'him': 23, 'has': 10, 'will': 11, 'an': 11, 'sollozzo': 15, 'meeting': 11, 'clemenza': 11}\n"
     ]
    }
   ],
   "source": [
    "# count the number of occurrences of each token in each text\n",
    "text_lowercase = data['imdb_plot'].astype(str).str.lower()\n",
    "text_tokenized = text_lowercase.apply(word_tokenize)\n",
    "token_counters = text_tokenized.apply(Counter).values.tolist()\n",
    "\n",
    "# show the tokens found in the first article with at least 10 occurrences\n",
    "print({token: n_occ for token, n_occ in token_counters[0].items() if n_occ >= 10}) "
   ]
  },
  {
   "cell_type": "code",
   "execution_count": 6,
   "id": "f5467755",
   "metadata": {},
   "outputs": [],
   "source": [
    "#Tokenize the query\n",
    "query = \"Police work\"\n",
    "query_tokenized = word_tokenize(query)"
   ]
  },
  {
   "cell_type": "code",
   "execution_count": 7,
   "id": "3c59812d",
   "metadata": {},
   "outputs": [],
   "source": [
    "# Compute a matching score for each text with respect to the query. The score is\n",
    "# the number of times each token in the query can be found in a specific text.\n",
    "\n",
    "def get_scores(query_tokenized, token_counters):\n",
    "    scores=[]\n",
    "    for token_counter in token_counters:\n",
    "        matches=[token_counter[query_token] for query_token in query_tokenized]\n",
    "        total_scores = sum (matches)\n",
    "        scores.append(total_scores)\n",
    "    return scores\n",
    "\n",
    "scores = get_scores(query_tokenized, token_counters)"
   ]
  },
  {
   "cell_type": "code",
   "execution_count": 8,
   "id": "07adf798",
   "metadata": {},
   "outputs": [
    {
     "name": "stdout",
     "output_type": "stream",
     "text": [
      "1 [score = 11]: On the Waterfront\n",
      "2 [score = 5]: Sunset Blvd.\n",
      "3 [score = 5]: The Shawshank Redemption\n",
      "4 [score = 5]: The Bridge on the River Kwai\n",
      "5 [score = 4]: North by Northwest\n",
      "6 [score = 3]: Some Like It Hot\n",
      "7 [score = 3]: The Grapes of Wrath\n",
      "8 [score = 2]: Jaws\n",
      "9 [score = 2]: Amadeus\n",
      "10 [score = 2]: The Pianist\n"
     ]
    }
   ],
   "source": [
    "# retrieve the top_n articles with the highest scores and show them\n",
    "import numpy as np\n",
    "def show_best_results (data, scores, top_n=10):\n",
    "    best_indexes = np.argsort(scores)[::-1]\n",
    "    for position, idx in enumerate(best_indexes[:top_n]):\n",
    "        row = data.iloc[idx]\n",
    "        title = row['title']\n",
    "        score = scores[idx]\n",
    "        print(f\"{position + 1} [score = {score}]: {title}\")\n",
    "        \n",
    "show_best_results(data, scores)"
   ]
  },
  {
   "cell_type": "code",
   "execution_count": 9,
   "id": "84131457",
   "metadata": {},
   "outputs": [
    {
     "name": "stdout",
     "output_type": "stream",
     "text": [
      "1 [score = 15]: Gone with the Wind\n",
      "2 [score = 7]: Dr. Strangelove or: How I Learned to Stop Worrying and Love the Bomb\n",
      "3 [score = 6]: Braveheart\n",
      "4 [score = 5]: The Pianist\n",
      "5 [score = 5]: Giant\n",
      "6 [score = 5]: The Godfather\n",
      "7 [score = 4]: The Best Years of Our Lives\n",
      "8 [score = 4]: Saving Private Ryan\n",
      "9 [score = 4]: A Streetcar Named Desire\n",
      "10 [score = 4]: Platoon\n"
     ]
    }
   ],
   "source": [
    "#DIFFERENT query\n",
    "query = \"war\"\n",
    "query_tokenized = word_tokenize(query)\n",
    "scores = get_scores(query_tokenized, token_counters)\n",
    "show_best_results(data, scores)"
   ]
  },
  {
   "cell_type": "markdown",
   "id": "1dc557ba",
   "metadata": {},
   "source": [
    "# Removing Stopwords"
   ]
  },
  {
   "cell_type": "code",
   "execution_count": 10,
   "id": "e8dd6d45",
   "metadata": {},
   "outputs": [],
   "source": [
    "from nltk.corpus import stopwords\n",
    "import string\n",
    "\n",
    "english_stopwords = stopwords.words('english')"
   ]
  },
  {
   "cell_type": "code",
   "execution_count": 11,
   "id": "32e42633",
   "metadata": {},
   "outputs": [
    {
     "name": "stdout",
     "output_type": "stream",
     "text": [
      "!\"#$%&'()*+,-./:;<=>?@[\\]^_`{|}~\n"
     ]
    }
   ],
   "source": [
    "print(string.punctuation)"
   ]
  },
  {
   "cell_type": "code",
   "execution_count": 13,
   "id": "654c9d8a",
   "metadata": {},
   "outputs": [
    {
     "name": "stdout",
     "output_type": "stream",
     "text": [
      "{'wedding': 6, 'vito': 13, 'corleone': 23, \"'s\": 63, 'connie': 19, 'carlo': 24, 'family': 26, '``': 19, \"''\": 15, 'tom': 8, 'hagen': 13, 'one': 9, 'men': 9, 'business': 10, 'michael': 53, 'tells': 8, 'kay': 8, 'father': 10, 'fredo': 7, 'sonny': 28, 'woltz': 6, 'brasi': 6, 'sollozzo': 15, 'tattaglia': 9, 'meeting': 11, 'later': 7, 'assassination': 6, 'paulie': 7, 'clemenza': 11, 'corleones': 7, 'rocco': 6, 'car': 6, 'killed': 9, 'away': 6, 'mccluskey': 8, 'barzini': 9, 'tessio': 8}\n"
     ]
    }
   ],
   "source": [
    "#count the number of occurences of each token in each text\n",
    "\n",
    "text_lower = data['imdb_plot'].astype(str).str.lower()\n",
    "text_tokenized = text_lower.apply(word_tokenize)\n",
    "text_tokenized_no_swrds = text_tokenized.apply(lambda token_list: [token for token in token_list\n",
    "                                                                  if token not in english_stopwords \n",
    "                                                                   and token not in string.punctuation])\n",
    "token_counters = text_tokenized_no_swrds.apply(Counter).values.tolist()\n",
    "# show the tokens found in the first article with at least 6 occurrences\n",
    "print({token: n_occ for token, n_occ in token_counters[0].items() if n_occ >= 6})"
   ]
  },
  {
   "cell_type": "code",
   "execution_count": 32,
   "id": "0e101f5e",
   "metadata": {},
   "outputs": [
    {
     "name": "stdout",
     "output_type": "stream",
     "text": [
      "Tokenized query without stopwords: ['struck', 'gold']\n",
      "\n",
      "1 [score = 12]: The Treasure of the Sierra Madre\n",
      "2 [score = 3]: Star Wars\n",
      "3 [score = 3]: Pulp Fiction\n",
      "4 [score = 2]: The Good, the Bad and the Ugly\n",
      "5 [score = 1]: Good Will Hunting\n",
      "6 [score = 1]: Gone with the Wind\n",
      "7 [score = 1]: Gandhi\n",
      "8 [score = 1]: Saving Private Ryan\n",
      "9 [score = 1]: Titanic\n",
      "10 [score = 1]: The Godfather: Part II\n"
     ]
    }
   ],
   "source": [
    "query = 'struck gold'\n",
    "query_tokens = word_tokenize(query)\n",
    "query_tokens_no_sw = [token for token in query_tokens\n",
    "                      if token not in english_stopwords and\n",
    "                      token not in string.punctuation]\n",
    "print(f\"Tokenized query without stopwords: {query_tokens_no_sw}\")\n",
    "print()\n",
    "\n",
    "# show best results\n",
    "scores = get_scores(query_tokens, token_counters)\n",
    "show_best_results(data, scores)"
   ]
  },
  {
   "cell_type": "code",
   "execution_count": null,
   "id": "5d6cc8c8",
   "metadata": {},
   "outputs": [],
   "source": []
  }
 ],
 "metadata": {
  "kernelspec": {
   "display_name": "Python 3 (ipykernel)",
   "language": "python",
   "name": "python3"
  },
  "language_info": {
   "codemirror_mode": {
    "name": "ipython",
    "version": 3
   },
   "file_extension": ".py",
   "mimetype": "text/x-python",
   "name": "python",
   "nbconvert_exporter": "python",
   "pygments_lexer": "ipython3",
   "version": "3.9.13"
  }
 },
 "nbformat": 4,
 "nbformat_minor": 5
}
