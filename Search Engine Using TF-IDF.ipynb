{
 "cells": [
  {
   "cell_type": "code",
   "execution_count": 1,
   "id": "50c4a24f",
   "metadata": {},
   "outputs": [],
   "source": [
    "from huggingface_hub import hf_hub_download\n",
    "\n",
    "import pandas as pd\n",
    "import numpy as np\n",
    "\n",
    "from sklearn.feature_extraction.text import TfidfVectorizer"
   ]
  },
  {
   "cell_type": "code",
   "execution_count": 2,
   "id": "7a77938f",
   "metadata": {},
   "outputs": [
    {
     "data": {
      "text/html": [
       "<div>\n",
       "<style scoped>\n",
       "    .dataframe tbody tr th:only-of-type {\n",
       "        vertical-align: middle;\n",
       "    }\n",
       "\n",
       "    .dataframe tbody tr th {\n",
       "        vertical-align: top;\n",
       "    }\n",
       "\n",
       "    .dataframe thead th {\n",
       "        text-align: right;\n",
       "    }\n",
       "</style>\n",
       "<table border=\"1\" class=\"dataframe\">\n",
       "  <thead>\n",
       "    <tr style=\"text-align: right;\">\n",
       "      <th></th>\n",
       "      <th>title</th>\n",
       "      <th>text</th>\n",
       "      <th>url</th>\n",
       "      <th>authors</th>\n",
       "      <th>timestamp</th>\n",
       "      <th>tags</th>\n",
       "    </tr>\n",
       "  </thead>\n",
       "  <tbody>\n",
       "    <tr>\n",
       "      <th>0</th>\n",
       "      <td>Mental Note Vol. 24</td>\n",
       "      <td>Photo by Josh Riemer on Unsplash\\n\\nMerry Chri...</td>\n",
       "      <td>https://medium.com/invisible-illness/mental-no...</td>\n",
       "      <td>['Ryan Fan']</td>\n",
       "      <td>2020-12-26 03:38:10.479000+00:00</td>\n",
       "      <td>['Mental Health', 'Health', 'Psychology', 'Sci...</td>\n",
       "    </tr>\n",
       "    <tr>\n",
       "      <th>1</th>\n",
       "      <td>Your Brain On Coronavirus</td>\n",
       "      <td>Your Brain On Coronavirus\\n\\nA guide to the cu...</td>\n",
       "      <td>https://medium.com/age-of-awareness/how-the-pa...</td>\n",
       "      <td>['Simon Spichak']</td>\n",
       "      <td>2020-09-23 22:10:17.126000+00:00</td>\n",
       "      <td>['Mental Health', 'Coronavirus', 'Science', 'P...</td>\n",
       "    </tr>\n",
       "    <tr>\n",
       "      <th>2</th>\n",
       "      <td>Mind Your Nose</td>\n",
       "      <td>Mind Your Nose\\n\\nHow smell training can chang...</td>\n",
       "      <td>https://medium.com/neodotlife/mind-your-nose-f...</td>\n",
       "      <td>[]</td>\n",
       "      <td>2020-10-10 20:17:37.132000+00:00</td>\n",
       "      <td>['Biotechnology', 'Neuroscience', 'Brain', 'We...</td>\n",
       "    </tr>\n",
       "    <tr>\n",
       "      <th>3</th>\n",
       "      <td>The 4 Purposes of Dreams</td>\n",
       "      <td>Passionate about the synergy between science a...</td>\n",
       "      <td>https://medium.com/science-for-real/the-4-purp...</td>\n",
       "      <td>['Eshan Samaranayake']</td>\n",
       "      <td>2020-12-21 16:05:19.524000+00:00</td>\n",
       "      <td>['Health', 'Neuroscience', 'Mental Health', 'P...</td>\n",
       "    </tr>\n",
       "    <tr>\n",
       "      <th>4</th>\n",
       "      <td>Surviving a Rod Through the Head</td>\n",
       "      <td>You’ve heard of him, haven’t you? Phineas Gage...</td>\n",
       "      <td>https://medium.com/live-your-life-on-purpose/s...</td>\n",
       "      <td>['Rishav Sinha']</td>\n",
       "      <td>2020-02-26 00:01:01.576000+00:00</td>\n",
       "      <td>['Brain', 'Health', 'Development', 'Psychology...</td>\n",
       "    </tr>\n",
       "  </tbody>\n",
       "</table>\n",
       "</div>"
      ],
      "text/plain": [
       "                              title  \\\n",
       "0               Mental Note Vol. 24   \n",
       "1         Your Brain On Coronavirus   \n",
       "2                    Mind Your Nose   \n",
       "3          The 4 Purposes of Dreams   \n",
       "4  Surviving a Rod Through the Head   \n",
       "\n",
       "                                                text  \\\n",
       "0  Photo by Josh Riemer on Unsplash\\n\\nMerry Chri...   \n",
       "1  Your Brain On Coronavirus\\n\\nA guide to the cu...   \n",
       "2  Mind Your Nose\\n\\nHow smell training can chang...   \n",
       "3  Passionate about the synergy between science a...   \n",
       "4  You’ve heard of him, haven’t you? Phineas Gage...   \n",
       "\n",
       "                                                 url                 authors  \\\n",
       "0  https://medium.com/invisible-illness/mental-no...            ['Ryan Fan']   \n",
       "1  https://medium.com/age-of-awareness/how-the-pa...       ['Simon Spichak']   \n",
       "2  https://medium.com/neodotlife/mind-your-nose-f...                      []   \n",
       "3  https://medium.com/science-for-real/the-4-purp...  ['Eshan Samaranayake']   \n",
       "4  https://medium.com/live-your-life-on-purpose/s...        ['Rishav Sinha']   \n",
       "\n",
       "                          timestamp  \\\n",
       "0  2020-12-26 03:38:10.479000+00:00   \n",
       "1  2020-09-23 22:10:17.126000+00:00   \n",
       "2  2020-10-10 20:17:37.132000+00:00   \n",
       "3  2020-12-21 16:05:19.524000+00:00   \n",
       "4  2020-02-26 00:01:01.576000+00:00   \n",
       "\n",
       "                                                tags  \n",
       "0  ['Mental Health', 'Health', 'Psychology', 'Sci...  \n",
       "1  ['Mental Health', 'Coronavirus', 'Science', 'P...  \n",
       "2  ['Biotechnology', 'Neuroscience', 'Brain', 'We...  \n",
       "3  ['Health', 'Neuroscience', 'Mental Health', 'P...  \n",
       "4  ['Brain', 'Health', 'Development', 'Psychology...  "
      ]
     },
     "execution_count": 2,
     "metadata": {},
     "output_type": "execute_result"
    }
   ],
   "source": [
    "df_articles = pd.read_csv(\n",
    "  hf_hub_download(\"fabiochiu/medium-articles\", repo_type=\"dataset\", filename=\"medium_articles.csv\")\n",
    ")\n",
    "\n",
    "df_articles= df_articles[:10000]\n",
    "\n",
    "df_articles.head()\n"
   ]
  },
  {
   "cell_type": "code",
   "execution_count": 3,
   "id": "c9f2473a",
   "metadata": {},
   "outputs": [
    {
     "name": "stdout",
     "output_type": "stream",
     "text": [
      "(10000, 110038)\n"
     ]
    }
   ],
   "source": [
    "#Apply Vectorizer to the corpus\n",
    "corpus = df_articles['text'].astype(str)\n",
    "vectorizer = TfidfVectorizer()\n",
    "corpus_vectorized = vectorizer.fit_transform(corpus)\n",
    "print(corpus_vectorized.shape)"
   ]
  },
  {
   "cell_type": "code",
   "execution_count": 4,
   "id": "3eb6a95b",
   "metadata": {},
   "outputs": [
    {
     "name": "stdout",
     "output_type": "stream",
     "text": [
      "(1, 110038)\n"
     ]
    }
   ],
   "source": [
    "#vectorize query\n",
    "query = 'data science nlp'\n",
    "query_vectorized = vectorizer.transform([query])\n",
    "print(query_vectorized.shape)"
   ]
  },
  {
   "cell_type": "code",
   "execution_count": 5,
   "id": "129cbe16",
   "metadata": {},
   "outputs": [
    {
     "name": "stdout",
     "output_type": "stream",
     "text": [
      "(10000,)\n"
     ]
    }
   ],
   "source": [
    "#compute similarity between query and the articles\n",
    "\n",
    "scores = query_vectorized.dot(corpus_vectorized.transpose())\n",
    "scores_array = scores.toarray()[0]\n",
    "print(scores_array.shape)"
   ]
  },
  {
   "cell_type": "code",
   "execution_count": 6,
   "id": "bceb3e7a",
   "metadata": {},
   "outputs": [
    {
     "name": "stdout",
     "output_type": "stream",
     "text": [
      "1 [score = 0.5913069114145734]: What in the “Hello World” is Natural Language Processing (NLP)?\n",
      "2 [score = 0.47487715081627846]: The Story of how Natural Language Processing is changing Financial Services in 2020\n",
      "3 [score = 0.3672260843689108]: The Application of Natural Language Processing in OpenSearch\n",
      "4 [score = 0.3483482100035714]: 5 Steps to Become a Data Scientist\n",
      "5 [score = 0.3413479210936063]: Data Science Scholarships-Full-list Compilations.\n",
      "6 [score = 0.3139018781861753]: Data science… without any data?!\n",
      "7 [score = 0.3106738813439215]: Transform your Data Science Projects with these 5 Steps of Design Thinking\n",
      "8 [score = 0.29735216501354833]: The Top Online Data Science Courses for 2019\n",
      "9 [score = 0.2820392959961161]: How bad data is weakening the study of big data\n",
      "10 [score = 0.27787107649790765]: I ranked every Intro to Data Science course on the internet, based on thousands of data points\n"
     ]
    }
   ],
   "source": [
    "#retrive top n_indices with the highest scores\n",
    "\n",
    "def show_best_results (df_articles, scores_array, top_n=10):\n",
    "    sorted_indices = scores_array.argsort() [::-1]\n",
    "    for position, idx in enumerate(sorted_indices[:top_n]):\n",
    "        row = df_articles.iloc[idx]\n",
    "        title = row[\"title\"]\n",
    "        score = scores_array[idx]\n",
    "        print(f\"{position + 1} [score = {score}]: {title}\")\n",
    "\n",
    "show_best_results(df_articles, scores_array)\n",
    "\n"
   ]
  },
  {
   "cell_type": "code",
   "execution_count": 7,
   "id": "c5249770",
   "metadata": {},
   "outputs": [
    {
     "name": "stdout",
     "output_type": "stream",
     "text": [
      "1 [score = 0.5287112127807346]: 5 Steps to Become a Data Scientist\n",
      "2 [score = 0.506478132245523]: Data science… without any data?!\n",
      "3 [score = 0.5060665245289075]: The Top Online Data Science Courses for 2019\n",
      "4 [score = 0.5012839107561229]: Data Science, the Good, the Bad, and the… Future\n",
      "5 [score = 0.4868361572835144]: Data Science Scholarships-Full-list Compilations.\n",
      "6 [score = 0.48000221277779337]: Roadmap to Becoming a Successful Data Scientist\n",
      "7 [score = 0.4749279770810061]: A Layman’s Guide to Data Science: How to Become a (Good) Data Scientist\n",
      "8 [score = 0.4737720457472213]: Transform your Data Science Projects with these 5 Steps of Design Thinking\n",
      "9 [score = 0.4696109348440433]: Why is Data Science Losing Its Charm?\n",
      "10 [score = 0.4627538814657971]: I ranked every Intro to Data Science course on the internet, based on thousands of data points\n"
     ]
    }
   ],
   "source": [
    "#using query containg stopwords\n",
    "query = 'how to learn the data science'\n",
    "query_vectorized = vectorizer.transform([query])\n",
    "scores= query_vectorized.dot(corpus_vectorized.transpose())\n",
    "scores_array = scores.toarray()[0]\n",
    "show_best_results(df_articles, scores_array)"
   ]
  },
  {
   "cell_type": "code",
   "execution_count": null,
   "id": "87443421",
   "metadata": {},
   "outputs": [],
   "source": []
  }
 ],
 "metadata": {
  "kernelspec": {
   "display_name": "Python 3 (ipykernel)",
   "language": "python",
   "name": "python3"
  },
  "language_info": {
   "codemirror_mode": {
    "name": "ipython",
    "version": 3
   },
   "file_extension": ".py",
   "mimetype": "text/x-python",
   "name": "python",
   "nbconvert_exporter": "python",
   "pygments_lexer": "ipython3",
   "version": "3.9.13"
  }
 },
 "nbformat": 4,
 "nbformat_minor": 5
}
