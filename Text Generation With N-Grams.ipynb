{
 "cells": [
  {
   "cell_type": "code",
   "execution_count": 1,
   "id": "5b65cd5f",
   "metadata": {},
   "outputs": [
    {
     "name": "stderr",
     "output_type": "stream",
     "text": [
      "[nltk_data] Downloading package gutenberg to\n",
      "[nltk_data]     C:\\Users\\Admin\\AppData\\Roaming\\nltk_data...\n",
      "[nltk_data]   Package gutenberg is already up-to-date!\n"
     ]
    }
   ],
   "source": [
    "import numpy as np\n",
    "import nltk\n",
    "nltk.download('gutenberg')\n",
    "\n",
    "from collections import defaultdict"
   ]
  },
  {
   "cell_type": "code",
   "execution_count": 2,
   "id": "c3713bc6",
   "metadata": {},
   "outputs": [
    {
     "data": {
      "text/plain": [
       "['austen-emma.txt',\n",
       " 'austen-persuasion.txt',\n",
       " 'austen-sense.txt',\n",
       " 'bible-kjv.txt',\n",
       " 'blake-poems.txt',\n",
       " 'bryant-stories.txt',\n",
       " 'burgess-busterbrown.txt',\n",
       " 'carroll-alice.txt',\n",
       " 'chesterton-ball.txt',\n",
       " 'chesterton-brown.txt',\n",
       " 'chesterton-thursday.txt',\n",
       " 'edgeworth-parents.txt',\n",
       " 'melville-moby_dick.txt',\n",
       " 'milton-paradise.txt',\n",
       " 'shakespeare-caesar.txt',\n",
       " 'shakespeare-hamlet.txt',\n",
       " 'shakespeare-macbeth.txt',\n",
       " 'whitman-leaves.txt']"
      ]
     },
     "execution_count": 2,
     "metadata": {},
     "output_type": "execute_result"
    }
   ],
   "source": [
    "#list all corpora from project gutenberg\n",
    "nltk.corpus.gutenberg.fileids()"
   ]
  },
  {
   "cell_type": "code",
   "execution_count": 3,
   "id": "3691f6b4",
   "metadata": {},
   "outputs": [
    {
     "name": "stdout",
     "output_type": "stream",
     "text": [
      "Set him before me , let me see his face Cassi . Fellow , come from the throng , look vpon Caesar Caes . What sayst thou to me now ? Speak once againe , Sooth . Beware the Ides of March Caes . He is a Dreamer\n"
     ]
    }
   ],
   "source": [
    "#shakespear corpora \n",
    "shakespear_corpora = ['shakespeare-caesar.txt',\n",
    "                     'shakespeare-hamlet.txt',\n",
    "                     'shakespeare-macbeth.txt']\n",
    "\n",
    "#get all corpora\n",
    "corpora = { corpus_name:nltk.corpus.gutenberg.words(corpus_name)\n",
    "          for corpus_name in shakespear_corpora}\n",
    "\n",
    "#print some text from the corpus\n",
    "some_n_tokens = corpora ['shakespeare-caesar.txt'] [1002:1050]\n",
    "print(\" \".join(some_n_tokens))"
   ]
  },
  {
   "cell_type": "code",
   "execution_count": 4,
   "id": "84332b84",
   "metadata": {},
   "outputs": [
    {
     "name": "stdout",
     "output_type": "stream",
     "text": [
      "[('tragedie', 6), ('stage', 6), ('signe', 1), ('aule', 1), ('streets', 8), ('liue', 2), ('replication', 1), ('gods', 13), ('plague', 1), ('poore', 11)]\n"
     ]
    }
   ],
   "source": [
    "#Count Occurencies\n",
    "from_token_to_next_token_counts = defaultdict(dict)\n",
    "\n",
    "for corpus in corpora.values():\n",
    "    for i in range (len(corpus)-1):\n",
    "        token = corpus [i].lower()\n",
    "        next_token = corpus [i+1].lower()\n",
    "        if next_token not in from_token_to_next_token_counts[token]:\n",
    "            from_token_to_next_token_counts[token] [next_token]= 0\n",
    "        from_token_to_next_token_counts[token][next_token]+=1\n",
    "            \n",
    "            \n",
    "#print ten tokens that follow the token \"the\"\n",
    "print(list(from_token_to_next_token_counts['the'].items())[:10])\n",
    "            "
   ]
  },
  {
   "cell_type": "code",
   "execution_count": 5,
   "id": "16bc2519",
   "metadata": {},
   "outputs": [
    {
     "name": "stdout",
     "output_type": "stream",
     "text": [
      "[('the', 37), ('caesars', 1), ('your', 5), ('their', 3), ('brutus', 1), ('that', 2), ('seuerall', 1), ('qualitie', 1), ('bondage', 1), ('power', 1), ('preuention', 1), ('him', 5), ('my', 9), ('darknesse', 1), ('a', 6)]\n"
     ]
    }
   ],
   "source": [
    "print(list(from_token_to_next_token_counts['from'].items())[:15])"
   ]
  },
  {
   "cell_type": "code",
   "execution_count": 6,
   "id": "0335b0c2",
   "metadata": {},
   "outputs": [
    {
     "name": "stdout",
     "output_type": "stream",
     "text": [
      "[('the', 0.19170984455958548), ('caesars', 0.0051813471502590676), ('your', 0.025906735751295335), ('their', 0.015544041450777202), ('brutus', 0.0051813471502590676), ('that', 0.010362694300518135), ('seuerall', 0.0051813471502590676), ('qualitie', 0.0051813471502590676), ('bondage', 0.0051813471502590676), ('power', 0.0051813471502590676)]\n"
     ]
    }
   ],
   "source": [
    "#Estimate probabilities\n",
    "from_token_to_next_token_probs={}\n",
    "\n",
    "for token, d_token in from_token_to_next_token_counts.items():\n",
    "    sum_of_counts_for_token = sum(d_token.values())\n",
    "    from_token_to_next_token_probs[token] = {\n",
    "      next_token: count / sum_of_counts_for_token\n",
    "      for next_token, count\n",
    "      in d_token.items()\n",
    "  }\n",
    "\n",
    "# print 10 examples of tokens that followed the token \"from\" in the corpora, along\n",
    "# with their probabilities\n",
    "print(list(from_token_to_next_token_probs[\"from\"].items())[:10])"
   ]
  },
  {
   "cell_type": "code",
   "execution_count": null,
   "id": "22ecebb8",
   "metadata": {},
   "outputs": [],
   "source": []
  }
 ],
 "metadata": {
  "kernelspec": {
   "display_name": "Python 3 (ipykernel)",
   "language": "python",
   "name": "python3"
  },
  "language_info": {
   "codemirror_mode": {
    "name": "ipython",
    "version": 3
   },
   "file_extension": ".py",
   "mimetype": "text/x-python",
   "name": "python",
   "nbconvert_exporter": "python",
   "pygments_lexer": "ipython3",
   "version": "3.9.13"
  }
 },
 "nbformat": 4,
 "nbformat_minor": 5
}
