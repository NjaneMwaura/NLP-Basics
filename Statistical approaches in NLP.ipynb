{
 "cells": [
  {
   "cell_type": "code",
   "execution_count": 1,
   "id": "223fc29c",
   "metadata": {},
   "outputs": [],
   "source": [
    "import pandas as pd\n",
    "from sklearn.feature_extraction.text import CountVectorizer\n",
    "from sklearn.linear_model import LogisticRegression"
   ]
  },
  {
   "cell_type": "code",
   "execution_count": 2,
   "id": "75a53e54",
   "metadata": {},
   "outputs": [
    {
     "data": {
      "text/plain": [
       "CountVectorizer()"
      ]
     },
     "execution_count": 2,
     "metadata": {},
     "output_type": "execute_result"
    }
   ],
   "source": [
    "texts = [\n",
    "    \"basketball is a team sport where teams shoot a basketball\",\n",
    "    \"football is a sport where teams score goals\"\n",
    "]\n",
    "\n",
    "labels=[1,0] #1 means basketball and 0 means football\n",
    "\n",
    "#fit vectorizer on texts  \n",
    "vectorizer=CountVectorizer(ngram_range=(1,1))\n",
    "vectorizer.fit(texts)\n"
   ]
  },
  {
   "cell_type": "code",
   "execution_count": 3,
   "id": "b66e36d8",
   "metadata": {},
   "outputs": [
    {
     "data": {
      "text/plain": [
       "matrix([[2, 0, 0, 1, 0, 1, 1, 1, 1, 1],\n",
       "        [0, 1, 1, 1, 1, 0, 1, 0, 1, 1]], dtype=int64)"
      ]
     },
     "execution_count": 3,
     "metadata": {},
     "output_type": "execute_result"
    }
   ],
   "source": [
    "ngrams=vectorizer.transform(texts)\n",
    "ngrams.todense()"
   ]
  },
  {
   "cell_type": "code",
   "execution_count": 4,
   "id": "e76b0587",
   "metadata": {},
   "outputs": [
    {
     "data": {
      "text/plain": [
       "{'basketball': 0,\n",
       " 'is': 3,\n",
       " 'team': 7,\n",
       " 'sport': 6,\n",
       " 'where': 9,\n",
       " 'teams': 8,\n",
       " 'shoot': 5,\n",
       " 'football': 1,\n",
       " 'score': 4,\n",
       " 'goals': 2}"
      ]
     },
     "execution_count": 4,
     "metadata": {},
     "output_type": "execute_result"
    }
   ],
   "source": [
    "vectorizer.vocabulary_\n"
   ]
  },
  {
   "cell_type": "code",
   "execution_count": 5,
   "id": "b7812ac6",
   "metadata": {},
   "outputs": [
    {
     "data": {
      "text/html": [
       "<div>\n",
       "<style scoped>\n",
       "    .dataframe tbody tr th:only-of-type {\n",
       "        vertical-align: middle;\n",
       "    }\n",
       "\n",
       "    .dataframe tbody tr th {\n",
       "        vertical-align: top;\n",
       "    }\n",
       "\n",
       "    .dataframe thead th {\n",
       "        text-align: right;\n",
       "    }\n",
       "</style>\n",
       "<table border=\"1\" class=\"dataframe\">\n",
       "  <thead>\n",
       "    <tr style=\"text-align: right;\">\n",
       "      <th></th>\n",
       "      <th>basketball</th>\n",
       "      <th>football</th>\n",
       "      <th>goals</th>\n",
       "      <th>is</th>\n",
       "      <th>score</th>\n",
       "      <th>shoot</th>\n",
       "      <th>sport</th>\n",
       "      <th>team</th>\n",
       "      <th>teams</th>\n",
       "      <th>where</th>\n",
       "    </tr>\n",
       "  </thead>\n",
       "  <tbody>\n",
       "    <tr>\n",
       "      <th>0</th>\n",
       "      <td>2</td>\n",
       "      <td>0</td>\n",
       "      <td>0</td>\n",
       "      <td>1</td>\n",
       "      <td>0</td>\n",
       "      <td>1</td>\n",
       "      <td>1</td>\n",
       "      <td>1</td>\n",
       "      <td>1</td>\n",
       "      <td>1</td>\n",
       "    </tr>\n",
       "    <tr>\n",
       "      <th>1</th>\n",
       "      <td>0</td>\n",
       "      <td>1</td>\n",
       "      <td>1</td>\n",
       "      <td>1</td>\n",
       "      <td>1</td>\n",
       "      <td>0</td>\n",
       "      <td>1</td>\n",
       "      <td>0</td>\n",
       "      <td>1</td>\n",
       "      <td>1</td>\n",
       "    </tr>\n",
       "  </tbody>\n",
       "</table>\n",
       "</div>"
      ],
      "text/plain": [
       "   basketball  football  goals  is  score  shoot  sport  team  teams  where\n",
       "0           2         0      0   1      0      1      1     1      1      1\n",
       "1           0         1      1   1      1      0      1     0      1      1"
      ]
     },
     "execution_count": 5,
     "metadata": {},
     "output_type": "execute_result"
    }
   ],
   "source": [
    "# create a pandas dataframe that shows the unigrams in each text\n",
    "keys_values_sorted = sorted(list(vectorizer.vocabulary_.items()), key=lambda t: t[1])\n",
    "keys_sorted = list(zip(*keys_values_sorted))[0]\n",
    "ngrams_matrix = ngrams.todense()\n",
    "df = pd.DataFrame(ngrams_matrix, columns=keys_sorted)\n",
    "df"
   ]
  },
  {
   "cell_type": "code",
   "execution_count": 7,
   "id": "4783bba4",
   "metadata": {},
   "outputs": [
    {
     "data": {
      "text/plain": [
       "{'basketball': 0.49464700259889355,\n",
       " 'football': -0.24731844154410243,\n",
       " 'goals': -0.24731844154410243,\n",
       " 'is': 5.059755344306952e-06,\n",
       " 'score': -0.24731844154410243,\n",
       " 'shoot': 0.24732350129944677,\n",
       " 'sport': 5.059755344306952e-06,\n",
       " 'team': 0.24732350129944677,\n",
       " 'teams': 5.059755344306952e-06,\n",
       " 'where': 5.059755344306952e-06}"
      ]
     },
     "execution_count": 7,
     "metadata": {},
     "output_type": "execute_result"
    }
   ],
   "source": [
    "#Train Model\n",
    "model=LogisticRegression()\n",
    "model.fit(ngrams, labels)\n",
    "\n",
    "# show logistic regression weights\n",
    "from_unigram_to_weight = dict(zip(keys_sorted, model.coef_[0]))\n",
    "from_unigram_to_weight"
   ]
  },
  {
   "cell_type": "markdown",
   "id": "d91130ac",
   "metadata": {},
   "source": [
    "# Using Bigrams"
   ]
  },
  {
   "cell_type": "code",
   "execution_count": 9,
   "id": "706ff3ab",
   "metadata": {},
   "outputs": [
    {
     "data": {
      "text/plain": [
       "matrix([[2, 1, 0, 0, 0, 1, 0, 1, 0, 0, 1, 1, 1, 1, 1, 1, 1, 0, 1, 1, 1],\n",
       "        [0, 0, 1, 1, 1, 1, 1, 0, 1, 1, 0, 0, 1, 1, 0, 0, 1, 1, 0, 1, 1]],\n",
       "       dtype=int64)"
      ]
     },
     "execution_count": 9,
     "metadata": {},
     "output_type": "execute_result"
    }
   ],
   "source": [
    "vectorizer=CountVectorizer(ngram_range=(1,2))\n",
    "vectorizer.fit(texts)\n",
    "ngrams=vectorizer.transform(texts)\n",
    "ngrams.todense()"
   ]
  },
  {
   "cell_type": "code",
   "execution_count": 10,
   "id": "19ce3838",
   "metadata": {},
   "outputs": [
    {
     "data": {
      "text/plain": [
       "{'basketball': 0,\n",
       " 'is': 5,\n",
       " 'team': 14,\n",
       " 'sport': 12,\n",
       " 'where': 19,\n",
       " 'teams': 16,\n",
       " 'shoot': 10,\n",
       " 'basketball is': 1,\n",
       " 'is team': 7,\n",
       " 'team sport': 15,\n",
       " 'sport where': 13,\n",
       " 'where teams': 20,\n",
       " 'teams shoot': 18,\n",
       " 'shoot basketball': 11,\n",
       " 'football': 2,\n",
       " 'score': 8,\n",
       " 'goals': 4,\n",
       " 'football is': 3,\n",
       " 'is sport': 6,\n",
       " 'teams score': 17,\n",
       " 'score goals': 9}"
      ]
     },
     "execution_count": 10,
     "metadata": {},
     "output_type": "execute_result"
    }
   ],
   "source": [
    "vectorizer.vocabulary_"
   ]
  },
  {
   "cell_type": "code",
   "execution_count": 11,
   "id": "b4fbac67",
   "metadata": {},
   "outputs": [
    {
     "data": {
      "text/plain": [
       "{'basketball': 0.34694141625374525,\n",
       " 'basketball is': 0.17347070812687262,\n",
       " 'football': -0.173468461920609,\n",
       " 'football is': -0.173468461920609,\n",
       " 'goals': -0.173468461920609,\n",
       " 'is': 2.2462062636217884e-06,\n",
       " 'is sport': -0.173468461920609,\n",
       " 'is team': 0.17347070812687262,\n",
       " 'score': -0.173468461920609,\n",
       " 'score goals': -0.173468461920609,\n",
       " 'shoot': 0.17347070812687262,\n",
       " 'shoot basketball': 0.17347070812687262,\n",
       " 'sport': 2.2462062636217884e-06,\n",
       " 'sport where': 2.2462062636217884e-06,\n",
       " 'team': 0.17347070812687262,\n",
       " 'team sport': 0.17347070812687262,\n",
       " 'teams': 2.2462062636217884e-06,\n",
       " 'teams score': -0.173468461920609,\n",
       " 'teams shoot': 0.17347070812687262,\n",
       " 'where': 2.2462062636217884e-06,\n",
       " 'where teams': 2.2462062636217884e-06}"
      ]
     },
     "execution_count": 11,
     "metadata": {},
     "output_type": "execute_result"
    }
   ],
   "source": [
    "model.fit(ngrams, labels)\n",
    "\n",
    "# show logistic regression weights\n",
    "keys_values_sorted = sorted(list(vectorizer.vocabulary_.items()), key=lambda t: t[1])\n",
    "keys_sorted = list(zip(*keys_values_sorted))[0]\n",
    "from_ngram_to_weight = dict(zip(keys_sorted, model.coef_[0]))\n",
    "from_ngram_to_weight"
   ]
  },
  {
   "cell_type": "code",
   "execution_count": null,
   "id": "9b7429d8",
   "metadata": {},
   "outputs": [],
   "source": []
  }
 ],
 "metadata": {
  "kernelspec": {
   "display_name": "Python 3 (ipykernel)",
   "language": "python",
   "name": "python3"
  },
  "language_info": {
   "codemirror_mode": {
    "name": "ipython",
    "version": 3
   },
   "file_extension": ".py",
   "mimetype": "text/x-python",
   "name": "python",
   "nbconvert_exporter": "python",
   "pygments_lexer": "ipython3",
   "version": "3.9.13"
  }
 },
 "nbformat": 4,
 "nbformat_minor": 5
}
